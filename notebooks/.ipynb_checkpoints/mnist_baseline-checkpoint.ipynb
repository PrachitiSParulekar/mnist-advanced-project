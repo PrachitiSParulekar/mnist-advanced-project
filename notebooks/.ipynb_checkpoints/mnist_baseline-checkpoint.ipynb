{
 "cells": [
  {
   "cell_type": "markdown",
   "id": "ad8c0efb-8de2-45b5-9e0d-690713748fbc",
   "metadata": {},
   "source": [
    "Mnist Baseline "
   ]
  },
  {
   "cell_type": "markdown",
   "id": "04ed49db-a3ba-4538-8cb4-a564e6b926b8",
   "metadata": {},
   "source": [
    "Step 1 : load Mnist Dataset"
   ]
  },
  {
   "cell_type": "code",
   "execution_count": 2,
   "id": "7a2b5145-8654-4bfa-8d89-7a1f140e2e50",
   "metadata": {},
   "outputs": [],
   "source": [
    "import torch\n",
    "from torchvision import datasets, transforms\n",
    "import matplotlib.pyplot as plt"
   ]
  },
  {
   "cell_type": "code",
   "execution_count": 4,
   "id": "00febd19-0bed-4c83-bb1d-da32567bc2c2",
   "metadata": {},
   "outputs": [],
   "source": [
    "transform = transforms.Compose([\n",
    "    transforms.ToTensor(),\n",
    "    transforms.Normalize((0.1307,),(0.3081,))\n",
    "])\n",
    "\n",
    "train_dataset = datasets.MNIST(root='./data', train = True , download=True, transform=transform)"
   ]
  },
  {
   "cell_type": "markdown",
   "id": "6507650e-abdf-4c93-9086-c466feec1359",
   "metadata": {},
   "source": [
    "transform = transforms.Compose([...])\n",
    "This line creates a transformation pipeline for the MNIST images, including:\n",
    "\n",
    "transforms.ToTensor(): Converts each MNIST image from a PIL image (or numpy array) to a PyTorch tensor, which is required for model training.\n",
    "\n",
    "transforms.Normalize((0.1307,), (0.3081,)): Normalizes the pixel values using the dataset's mean (0.1307) and standard deviation (0.3081). Normalization helps training converge faster and improves performance by ensuring all pixel values are on a similar scale.\n",
    "\n",
    "train_dataset = datasets.MNIST(...)\n",
    "This loads the MNIST training dataset from ./data directory. It:\n",
    "\n",
    "Downloads the data if it doesn’t exist yet.\n",
    "\n",
    "Applies the transformations defined above to each image, prepping the data for use in PyTorch models."
   ]
  },
  {
   "cell_type": "code",
   "execution_count": 5,
   "id": "bd3e2ab9-4cc4-43b8-bf3e-8f4f1a53d6e1",
   "metadata": {},
   "outputs": [
    {
     "name": "stdout",
     "output_type": "stream",
     "text": [
      "Number of training samples: 60000\n"
     ]
    }
   ],
   "source": [
    "print(f\"Number of training samples: {len(train_dataset)}\")"
   ]
  },
  {
   "cell_type": "code",
   "execution_count": 6,
   "id": "d7d89734-eda0-49dd-9e2a-05e60025d29c",
   "metadata": {},
   "outputs": [
    {
     "data": {
      "image/png": "[encoded data removed]",
      "text/plain": [
       "<Figure size 1200x300 with 6 Axes>"
      ]
     },
     "metadata": {},
     "output_type": "display_data"
    }
   ],
   "source": [
    "fig, axes = plt.subplots(1, 6, figsize=(12, 3))\n",
    "for i in range(6):\n",
    "    image, label = train_dataset[i]\n",
    "    image = image.squeeze()  # remove channel dimension for plotting\n",
    "    axes[i].imshow(image, cmap='gray')\n",
    "    axes[i].set_title(f\"Label: {label}\")\n",
    "    axes[i].axis('off')\n",
    "plt.show()\n"
   ]
  },
  {
   "cell_type": "markdown",
   "id": "65aefce2-b113-4e19-9e49-f802c4f48c88",
   "metadata": {},
   "source": [
    "Set Up DataLoader for Training\n",
    "PyTorch’s DataLoader helps you:\n",
    "*Batch the data for efficient training\n",
    "*Shuffle data for randomness in each epoch\n",
    "*Load data as needed, saving memory"
   ]
  },
  {
   "cell_type": "code",
   "execution_count": 8,
   "id": "cf6d29dd-1a8e-471d-935d-89e3f2a61457",
   "metadata": {},
   "outputs": [],
   "source": [
    "from torch.utils.data import DataLoader\n",
    "\n",
    "batch_size = 64\n",
    "\n",
    "train_loader = DataLoader(train_dataset, batch_size=batch_size, shuffle=True)"
   ]
  },
  {
   "cell_type": "code",
   "execution_count": 9,
   "id": "d3e75d1a-410a-4777-a452-2f8da35a6499",
   "metadata": {},
   "outputs": [],
   "source": [
    "test_dataset = datasets.MNIST(root='./data', train=False, download=True, transform=transform)\n",
    "test_loader = DataLoader(test_dataset, batch_size=batch_size, shuffle=False)"
   ]
  },
  {
   "cell_type": "markdown",
   "id": "abdfa504-06fd-492e-988d-3e2c10328b2b",
   "metadata": {},
   "source": [
    "test_dataset = datasets.MNIST(root='./data', train=False, download=True, transform=transform)\n",
    "test_loader = DataLoader(test_dataset, batch_size=batch_size, shuffle=False)\n"
   ]
  },
  {
   "cell_type": "markdown",
   "id": "cd06a82b-004a-4970-9a6d-b6fad08f6b32",
   "metadata": {},
   "source": [
    "Define the Classic CNN Model\n",
    "Let’s start with a simple LeNet-style architecture."
   ]
  },
  {
   "cell_type": "code",
   "execution_count": 10,
   "id": "5e26b787-3215-445b-b2bc-385d89a5517c",
   "metadata": {},
   "outputs": [],
   "source": [
    "import torch.nn as nn\n",
    "import torch.nn.functional as F\n",
    "\n",
    "class SimpleCNN(nn.Module):\n",
    "    def __init__(self):\n",
    "        super(SimpleCNN, self).__init__()\n",
    "        # Convolutional layers\n",
    "        self.conv1 = nn.Conv2d(1, 32, 3, padding=1)\n",
    "        self.conv2 = nn.Conv2d(32, 64, 3, padding=1)\n",
    "        # Pooling layer\n",
    "        self.pool = nn.MaxPool2d(2, 2)\n",
    "        # Fully connected layers\n",
    "        self.fc1 = nn.Linear(64 * 7 * 7, 128)\n",
    "        self.fc2 = nn.Linear(128, 10)\n",
    "\n",
    "    def forward(self, x):\n",
    "        x = self.pool(F.relu(self.conv1(x)))\n",
    "        x = self.pool(F.relu(self.conv2(x)))\n",
    "        x = x.view(-1, 64 * 7 * 7)\n",
    "        x = F.relu(self.fc1(x))\n",
    "        x = self.fc2(x)\n",
    "        return x\n",
    "\n",
    "model = SimpleCNN()\n"
   ]
  },
  {
   "cell_type": "markdown",
   "id": "c57caec7-db70-420e-bb1c-c56b6af0b04f",
   "metadata": {},
   "source": [
    "This model takes 28x28 MNIST images, extracts features with convolutional and pooling layers, flattens the features, and classifies the digits 0–9 with the output layer."
   ]
  },
  {
   "cell_type": "code",
   "execution_count": 11,
   "id": "a490eb0f-be7d-4bc0-9358-24aa338e639c",
   "metadata": {},
   "outputs": [],
   "source": [
    "import torch.optim as optim\n",
    "\n",
    "criterion = nn.CrossEntropyLoss()     # For multiclass classification\n",
    "optimizer = optim.Adam(model.parameters(), lr=0.001)  # Adam optimizer with learning rate 0.001"
   ]
  },
  {
   "cell_type": "markdown",
   "id": "2ffdd829-b65e-4a3c-b5f6-5b4a93a866b9",
   "metadata": {},
   "source": [
    "1. Loss Function:\n",
    "\n",
    "python\n",
    "criterion = nn.CrossEntropyLoss()\n",
    "Purpose: Measures how well your model's predictions match the true labels.\n",
    "\n",
    "Why CrossEntropy? For multiclass classification, like digit recognition (0–9), cross-entropy quantifies the difference between your model's predicted probabilities and the actual digit class. It gives a higher penalty for confident but wrong guesses, encouraging better learning.\n",
    "\n",
    "2. Optimizer:\n",
    "\n",
    "python\n",
    "optimizer = optim.Adam(model.parameters(), lr=0.001)\n",
    "Purpose: Updates the model's weights after each batch of training data to reduce the loss.\n",
    "\n",
    "Why Adam? Adam is an advanced optimizer that adapts learning rates for different parameters, often leading to faster and more stable training compared to plain SGD.\n",
    "\n",
    "Parameters:\n",
    "\n",
    "model.parameters(): Tells Adam which model weights to update.\n",
    "\n",
    "lr=0.001: Starting learning rate (how much weights change in response to calculated error)."
   ]
  },
  {
   "cell_type": "code",
   "execution_count": 12,
   "id": "48477984-750a-4243-b415-6d5ce847ffac",
   "metadata": {},
   "outputs": [
    {
     "name": "stdout",
     "output_type": "stream",
     "text": [
      "Epoch 1/1, Loss: 0.1403\n"
     ]
    }
   ],
   "source": [
    "device = torch.device('cuda' if torch.cuda.is_available() else 'cpu')\n",
    "model.to(device)\n",
    "\n",
    "num_epochs = 1  # We'll start with 1 epoch for demonstration\n",
    "\n",
    "for epoch in range(num_epochs):\n",
    "    model.train()  # set model to training mode\n",
    "    running_loss = 0.0\n",
    "\n",
    "    for images, labels in train_loader:\n",
    "        images, labels = images.to(device), labels.to(device)\n",
    "\n",
    "        optimizer.zero_grad()                   # reset gradients\n",
    "        outputs = model(images)                 # forward pass\n",
    "        loss = criterion(outputs, labels)       # compute loss\n",
    "        loss.backward()                         # backward pass\n",
    "        optimizer.step()                        # update weights\n",
    "\n",
    "        running_loss += loss.item()\n",
    "\n",
    "    print(f\"Epoch {epoch+1}/{num_epochs}, Loss: {running_loss/len(train_loader):.4f}\")\n"
   ]
  },
  {
   "cell_type": "code",
   "execution_count": 13,
   "id": "dea105e1-6b32-4ff4-b869-783a0201d888",
   "metadata": {},
   "outputs": [
    {
     "name": "stdout",
     "output_type": "stream",
     "text": [
      "Test Accuracy: 98.19%\n"
     ]
    }
   ],
   "source": [
    "model.eval()  # Set model to evaluation mode\n",
    "correct = 0\n",
    "total = 0\n",
    "\n",
    "with torch.no_grad():  # Disable gradients for evaluation\n",
    "    for images, labels in test_loader:\n",
    "        images, labels = images.to(device), labels.to(device)\n",
    "        outputs = model(images)\n",
    "        _, predicted = torch.max(outputs.data, 1)\n",
    "        total += labels.size(0)\n",
    "        correct += (predicted == labels).sum().item()\n",
    "\n",
    "accuracy = 100 * correct / total\n",
    "print(f\"Test Accuracy: {accuracy:.2f}%\")\n"
   ]
  },
  {
   "cell_type": "markdown",
   "id": "b0049133-bed7-4201-b35c-8e249283ae5a",
   "metadata": {},
   "source": [
    "Train for more epochs to see if accuracy improves"
   ]
  },
  {
   "cell_type": "code",
   "execution_count": 14,
   "id": "33434b2b-564f-4925-8eb6-13ca75f8a8f8",
   "metadata": {},
   "outputs": [
    {
     "name": "stdout",
     "output_type": "stream",
     "text": [
      "Epoch 1/10, Loss: 0.0431\n",
      "Epoch 2/10, Loss: 0.0299\n",
      "Epoch 3/10, Loss: 0.0207\n",
      "Epoch 4/10, Loss: 0.0157\n",
      "Epoch 5/10, Loss: 0.0130\n",
      "Epoch 6/10, Loss: 0.0114\n",
      "Epoch 7/10, Loss: 0.0080\n",
      "Epoch 8/10, Loss: 0.0084\n",
      "Epoch 9/10, Loss: 0.0065\n",
      "Epoch 10/10, Loss: 0.0073\n"
     ]
    }
   ],
   "source": [
    "num_epochs = 10 \n",
    "\n",
    "for epoch in range(num_epochs):\n",
    "    model.train()\n",
    "    running_loss = 0.0\n",
    "    for images, labels in train_loader:\n",
    "        images, labels = images.to(device), labels.to(device)\n",
    "        optimizer.zero_grad()\n",
    "        outputs = model(images)\n",
    "        loss = criterion(outputs, labels)\n",
    "        loss.backward()\n",
    "        optimizer.step()\n",
    "        running_loss += loss.item()\n",
    "    print(f\"Epoch {epoch+1}/{num_epochs}, Loss: {running_loss/len(train_loader):.4f}\")\n"
   ]
  },
  {
   "cell_type": "code",
   "execution_count": 15,
   "id": "668e0263-409e-4454-a6c6-84b1aef2b98a",
   "metadata": {},
   "outputs": [
    {
     "name": "stdout",
     "output_type": "stream",
     "text": [
      "Test Accuracy: 98.94%\n"
     ]
    }
   ],
   "source": [
    "model.eval()  # Set model to evaluation mode\n",
    "correct = 0\n",
    "total = 0\n",
    "\n",
    "with torch.no_grad():  # Disable gradients for evaluation\n",
    "    for images, labels in test_loader:\n",
    "        images, labels = images.to(device), labels.to(device)\n",
    "        outputs = model(images)\n",
    "        _, predicted = torch.max(outputs.data, 1)\n",
    "        total += labels.size(0)\n",
    "        correct += (predicted == labels).sum().item()\n",
    "\n",
    "accuracy = 100 * correct / total\n",
    "print(f\"Test Accuracy: {accuracy:.2f}%\")\n"
   ]
  },
  {
   "cell_type": "code",
   "execution_count": 16,
   "id": "07e0b6ed-c884-4d62-bc32-bfcafed27edb",
   "metadata": {},
   "outputs": [
    {
     "data": {
      "image/png": "[encoded data removed]",
      "text/plain": [
       "<Figure size 1200x300 with 6 Axes>"
      ]
     },
     "metadata": {},
     "output_type": "display_data"
    }
   ],
   "source": [
    "import numpy as np\n",
    "\n",
    "# Store misclassified images, their predicted and true labels\n",
    "misclassified = []\n",
    "\n",
    "model.eval()\n",
    "with torch.no_grad():\n",
    "    for images, labels in test_loader:\n",
    "        images, labels = images.to(device), labels.to(device)\n",
    "        outputs = model(images)\n",
    "        _, predicted = torch.max(outputs.data, 1)\n",
    "        for img, true, pred in zip(images, labels, predicted):\n",
    "            if true != pred:\n",
    "                misclassified.append((img.cpu(), true.cpu(), pred.cpu()))\n",
    "            if len(misclassified) >= 6:\n",
    "                break\n",
    "        if len(misclassified) >= 6:\n",
    "            break\n",
    "\n",
    "fig, axes = plt.subplots(1, 6, figsize=(12, 3))\n",
    "for i, (img, true, pred) in enumerate(misclassified[:6]):\n",
    "    axes[i].imshow(img.squeeze(), cmap='gray')\n",
    "    axes[i].set_title(f\"T:{true} P:{pred}\")\n",
    "    axes[i].axis('off')\n",
    "plt.show()\n"
   ]
  },
  {
   "cell_type": "code",
   "execution_count": 18,
   "id": "f85f6560-8f47-4e26-b48b-719c83f6ef39",
   "metadata": {},
   "outputs": [],
   "source": [
    "class SimpleCNN(nn.Module):\n",
    "    def __init__(self):\n",
    "        super(SimpleCNN, self).__init__()\n",
    "        self.conv1 = nn.Conv2d(1, 32, 3, padding=1)\n",
    "        self.conv2 = nn.Conv2d(32, 64, 3, padding=1)\n",
    "        self.pool = nn.MaxPool2d(2, 2)\n",
    "        self.dropout = nn.Dropout(0.25)  # Add dropout with probability 0.25\n",
    "        self.fc1 = nn.Linear(64 * 7 * 7, 256)  # Increase neuron count (was 128)\n",
    "        self.fc2 = nn.Linear(256, 10)\n",
    "\n",
    "    def forward(self, x):\n",
    "        x = self.pool(F.relu(self.conv1(x)))\n",
    "        x = self.pool(F.relu(self.conv2(x)))\n",
    "        x = x.view(-1, 64 * 7 * 7)\n",
    "        x = self.dropout(x)              # Apply dropout before fully connected layer\n",
    "        x = F.relu(self.fc1(x))\n",
    "        x = self.fc2(x)\n",
    "        return x\n"
   ]
  },
  {
   "cell_type": "markdown",
   "id": "58bd1000-c314-4d0e-ab0f-017e6a8343c8",
   "metadata": {},
   "source": [
    "1. Dropout Layer (nn.Dropout(0.25)):\n",
    "\n",
    "What: Randomly sets 25% of its input units to zero during each training step.\n",
    "\n",
    "Why: Prevents the network from becoming too reliant (“overfitting”) on particular features, encouraging it to learn more general patterns that work well on unseen data.\n",
    "\n",
    "2. Increased Neurons in fc1 Layer (nn.Linear(64*7*7, 256)):\n",
    "\n",
    "What: Expands the fully connected layer from 128 neurons to 256.\n",
    "\n",
    "Why: More neurons give the network greater capacity to learn complex patterns and relationships in the data.\n",
    "\n",
    "Effect: Sometimes leads to better accuracy, especially for difficult tasks; but can also increase risk of overfitting if unchecked (which is why dropout helps here).\n",
    "\n",
    "How it works in forward pass:\n",
    "\n",
    "Images move through feature extraction layers (conv, pool).\n",
    "\n",
    "The resulting feature tensor is flattened.\n",
    "\n",
    "Dropout randomly zeroes out parts of the feature tensor.\n",
    "\n",
    "The dropped-out tensor goes through a larger fully connected layer (256 neurons), activated by ReLU.\n",
    "\n",
    "Final layer produces probability logits for each digit class.\n",
    "\n",
    "Summary:\n",
    "\n",
    "Dropout = better generalization (less overfit).\n",
    "\n",
    "More neurons = higher learning capacity.\n",
    "\n",
    "Used together, they should help your model stay accurate on both training and test data—even if you make it deeper or more complex!"
   ]
  },
  {
   "cell_type": "code",
   "execution_count": 19,
   "id": "c13cf342-a496-4e5d-a556-b5d037171505",
   "metadata": {},
   "outputs": [],
   "source": [
    "model = SimpleCNN().to(device)\n",
    "optimizer = optim.Adam(model.parameters(), lr=0.001)\n"
   ]
  },
  {
   "cell_type": "code",
   "execution_count": 20,
   "id": "fd462700-5935-4ad4-9732-a27848288721",
   "metadata": {},
   "outputs": [
    {
     "name": "stdout",
     "output_type": "stream",
     "text": [
      "Epoch 1/1, Loss: 0.1333\n"
     ]
    }
   ],
   "source": [
    "num_epochs = 1\n",
    "\n",
    "for epoch in range(num_epochs):\n",
    "    model.train()\n",
    "    running_loss = 0.0\n",
    "    for images, labels in train_loader:\n",
    "        images, labels = images.to(device), labels.to(device)\n",
    "        optimizer.zero_grad()\n",
    "        outputs = model(images)\n",
    "        loss = criterion(outputs, labels)\n",
    "        loss.backward()\n",
    "        optimizer.step()\n",
    "        running_loss += loss.item()\n",
    "    print(f\"Epoch {epoch+1}/{num_epochs}, Loss: {running_loss/len(train_loader):.4f}\")\n"
   ]
  },
  {
   "cell_type": "code",
   "execution_count": 21,
   "id": "a1fd753e-db68-46c1-a606-82a831e7ae04",
   "metadata": {},
   "outputs": [
    {
     "name": "stdout",
     "output_type": "stream",
     "text": [
      "Test Accuracy: 98.60%\n"
     ]
    }
   ],
   "source": [
    "model.eval()  # Set model to evaluation mode\n",
    "correct = 0\n",
    "total = 0\n",
    "\n",
    "with torch.no_grad():  # Disable gradients for evaluation\n",
    "    for images, labels in test_loader:\n",
    "        images, labels = images.to(device), labels.to(device)\n",
    "        outputs = model(images)\n",
    "        _, predicted = torch.max(outputs.data, 1)\n",
    "        total += labels.size(0)\n",
    "        correct += (predicted == labels).sum().item()\n",
    "\n",
    "accuracy = 100 * correct / total\n",
    "print(f\"Test Accuracy: {accuracy:.2f}%\")\n"
   ]
  },
  {
   "cell_type": "markdown",
   "id": "c8336b86-928c-43d9-936d-1df51310cb52",
   "metadata": {},
   "source": [
    "we can see after experiment with architecture/tuning , test accuracy has increase "
   ]
  },
  {
   "cell_type": "code",
   "execution_count": 22,
   "id": "299f87ab-e79c-4cc4-b69f-b8598fabbbef",
   "metadata": {},
   "outputs": [
    {
     "name": "stdout",
     "output_type": "stream",
     "text": [
      "Epoch 1/5, Loss: 0.0468\n",
      "Epoch 2/5, Loss: 0.0327\n",
      "Epoch 3/5, Loss: 0.0263\n",
      "Epoch 4/5, Loss: 0.0229\n",
      "Epoch 5/5, Loss: 0.0173\n"
     ]
    }
   ],
   "source": [
    "num_epochs = 5\n",
    "\n",
    "for epoch in range(num_epochs):\n",
    "    model.train()\n",
    "    running_loss = 0.0\n",
    "    for images, labels in train_loader:\n",
    "        images, labels = images.to(device), labels.to(device)\n",
    "        optimizer.zero_grad()\n",
    "        outputs = model(images)\n",
    "        loss = criterion(outputs, labels)\n",
    "        loss.backward()\n",
    "        optimizer.step()\n",
    "        running_loss += loss.item()\n",
    "    print(f\"Epoch {epoch+1}/{num_epochs}, Loss: {running_loss/len(train_loader):.4f}\")\n"
   ]
  },
  {
   "cell_type": "code",
   "execution_count": 23,
   "id": "87dd3666-eea1-4255-82be-35e109db9521",
   "metadata": {},
   "outputs": [
    {
     "name": "stdout",
     "output_type": "stream",
     "text": [
      "Test Accuracy: 99.21%\n"
     ]
    }
   ],
   "source": [
    "model.eval()  # Set model to evaluation mode\n",
    "correct = 0\n",
    "total = 0\n",
    "\n",
    "with torch.no_grad():  # Disable gradients for evaluation\n",
    "    for images, labels in test_loader:\n",
    "        images, labels = images.to(device), labels.to(device)\n",
    "        outputs = model(images)\n",
    "        _, predicted = torch.max(outputs.data, 1)\n",
    "        total += labels.size(0)\n",
    "        correct += (predicted == labels).sum().item()\n",
    "\n",
    "accuracy = 100 * correct / total\n",
    "print(f\"Test Accuracy: {accuracy:.2f}%\")\n"
   ]
  },
  {
   "cell_type": "markdown",
   "id": "344f1b96-4274-48d9-a32e-cae5d5ff11b1",
   "metadata": {},
   "source": [
    "Achieved more accuracy on this architecture"
   ]
  },
  {
   "cell_type": "code",
   "execution_count": 27,
   "id": "4482104c-ad60-4706-92b1-14af8e974d90",
   "metadata": {},
   "outputs": [],
   "source": [
    "class SimpleCNN(nn.Module):\n",
    "    def __init__(self):\n",
    "        super(SimpleCNN, self).__init__()\n",
    "        self.conv1 = nn.Conv2d(1, 32, 3, padding=1)\n",
    "        self.conv2 = nn.Conv2d(32, 64, 3, padding=1)\n",
    "        self.conv3 = nn.Conv2d(64, 128, 3, padding=1)  # <- new layer\n",
    "        self.pool = nn.MaxPool2d(2, 2)\n",
    "        self.dropout = nn.Dropout(0.25)\n",
    "        self.fc1 = nn.Linear(128*3*3, 256)  # Adjust for new conv layer\n",
    "        self.fc2 = nn.Linear(256, 10)\n",
    "\n",
    "    def forward(self, x):\n",
    "        x = self.pool(F.relu(self.conv1(x)))\n",
    "        x = self.pool(F.relu(self.conv2(x)))\n",
    "        x = self.pool(F.relu(self.conv3(x)))    # <- new layer used\n",
    "        x = x.view(-1, 128*3*3)\n",
    "        x = self.dropout(x)\n",
    "        x = F.relu(self.fc1(x))\n",
    "        x = self.fc2(x)\n",
    "        return x\n"
   ]
  },
  {
   "cell_type": "code",
   "execution_count": 28,
   "id": "f06a3ede-33b1-491e-983f-652d0cbbda4f",
   "metadata": {},
   "outputs": [],
   "source": [
    "model = SimpleCNN().to(device)\n",
    "optimizer = optim.Adam(model.parameters(), lr=0.001)"
   ]
  },
  {
   "cell_type": "markdown",
   "id": "b5b07b40-af2a-4087-b9c8-ef7a9aec2d2f",
   "metadata": {},
   "source": [
    "Add Another Convolutional Layer\n",
    "Try adding one more convolutional layer (e.g., conv3) to your SimpleCNN:\n",
    "And in the forward() method"
   ]
  },
  {
   "cell_type": "code",
   "execution_count": 29,
   "id": "f2110164-eb7f-4279-afaa-39fc3b59f3df",
   "metadata": {},
   "outputs": [
    {
     "name": "stdout",
     "output_type": "stream",
     "text": [
      "Epoch 1/1, Loss: 0.1427\n"
     ]
    }
   ],
   "source": [
    "num_epochs = 1\n",
    "\n",
    "for epoch in range(num_epochs):\n",
    "    model.train()\n",
    "    running_loss = 0.0\n",
    "    for images, labels in train_loader:\n",
    "        images, labels = images.to(device), labels.to(device)\n",
    "        optimizer.zero_grad()\n",
    "        outputs = model(images)\n",
    "        loss = criterion(outputs, labels)\n",
    "        loss.backward()\n",
    "        optimizer.step()\n",
    "        running_loss += loss.item()\n",
    "    print(f\"Epoch {epoch+1}/{num_epochs}, Loss: {running_loss/len(train_loader):.4f}\")\n"
   ]
  },
  {
   "cell_type": "code",
   "execution_count": 30,
   "id": "d297dfb5-aead-4aae-af59-e8b79cc2fe5f",
   "metadata": {},
   "outputs": [
    {
     "name": "stdout",
     "output_type": "stream",
     "text": [
      "Test Accuracy: 98.86%\n"
     ]
    }
   ],
   "source": [
    "model.eval()  # Set model to evaluation mode\n",
    "correct = 0\n",
    "total = 0\n",
    "\n",
    "with torch.no_grad():  # Disable gradients for evaluation\n",
    "    for images, labels in test_loader:\n",
    "        images, labels = images.to(device), labels.to(device)\n",
    "        outputs = model(images)\n",
    "        _, predicted = torch.max(outputs.data, 1)\n",
    "        total += labels.size(0)\n",
    "        correct += (predicted == labels).sum().item()\n",
    "\n",
    "accuracy = 100 * correct / total\n",
    "print(f\"Test Accuracy: {accuracy:.2f}%\")\n"
   ]
  },
  {
   "cell_type": "markdown",
   "id": "a457a042-873a-473b-b589-9fb30fdae123",
   "metadata": {},
   "source": [
    "Data Augmentation"
   ]
  },
  {
   "cell_type": "markdown",
   "id": "c599a84c-27d5-4fe8-95b2-38a794f37a38",
   "metadata": {},
   "source": [
    "Update the transform for your training dataset:"
   ]
  },
  {
   "cell_type": "code",
   "execution_count": 31,
   "id": "4dc4afc5-8e40-4a98-b24d-155df0b28d62",
   "metadata": {},
   "outputs": [],
   "source": [
    "from torchvision import transforms\n",
    "\n",
    "transform = transforms.Compose([\n",
    "    transforms.RandomRotation(10),  # Randomly rotate images by up to ±10 degrees\n",
    "    transforms.ToTensor(),\n",
    "    transforms.Normalize((0.1307,), (0.3081,))\n",
    "])\n"
   ]
  },
  {
   "cell_type": "markdown",
   "id": "cb8d255b-f68b-442f-989c-9b7588344bfb",
   "metadata": {},
   "source": [
    "Re-instantiate your training dataset with the new transform:"
   ]
  },
  {
   "cell_type": "code",
   "execution_count": 32,
   "id": "46040a6c-4787-475e-81ba-cc6f949e4a85",
   "metadata": {},
   "outputs": [],
   "source": [
    "train_dataset = datasets.MNIST(root='./data', train=True, download=True, transform=transform)\n",
    "train_loader = DataLoader(train_dataset, batch_size=batch_size, shuffle=True)"
   ]
  },
  {
   "cell_type": "markdown",
   "id": "c3261b19-9c4f-4670-bc54-98b0c99a4c36",
   "metadata": {},
   "source": [
    "Retrain your model and compare test accuracy and misclassifications."
   ]
  },
  {
   "cell_type": "code",
   "execution_count": 35,
   "id": "6c7faa5f-f75f-4f6f-bb12-f8b811ef0d14",
   "metadata": {},
   "outputs": [
    {
     "name": "stdout",
     "output_type": "stream",
     "text": [
      "Epoch 1/1, Loss: 0.1647\n"
     ]
    }
   ],
   "source": [
    "num_epochs = 1  # You can increase or decrease as needed\n",
    "\n",
    "device = torch.device('cuda' if torch.cuda.is_available() else 'cpu')\n",
    "model = SimpleCNN().to(device)  # Re-instantiate after any changes!\n",
    "optimizer = optim.Adam(model.parameters(), lr=0.001)\n",
    "\n",
    "for epoch in range(num_epochs):\n",
    "    model.train()\n",
    "    running_loss = 0.0\n",
    "\n",
    "    for images, labels in train_loader:\n",
    "        images, labels = images.to(device), labels.to(device)\n",
    "        optimizer.zero_grad()\n",
    "        outputs = model(images)\n",
    "        loss = criterion(outputs, labels)\n",
    "        loss.backward()\n",
    "        optimizer.step()\n",
    "        running_loss += loss.item()\n",
    "\n",
    "    print(f\"Epoch {epoch+1}/{num_epochs}, Loss: {running_loss/len(train_loader):.4f}\")\n"
   ]
  },
  {
   "cell_type": "code",
   "execution_count": 36,
   "id": "3cc1b6df-f857-4ea1-b359-a1c5ebc028f5",
   "metadata": {},
   "outputs": [
    {
     "name": "stdout",
     "output_type": "stream",
     "text": [
      "Test Accuracy: 98.90%\n"
     ]
    }
   ],
   "source": [
    "model.eval()  # Set model to evaluation mode\n",
    "correct = 0\n",
    "total = 0\n",
    "\n",
    "with torch.no_grad():  # Disable gradients for evaluation\n",
    "    for images, labels in test_loader:\n",
    "        images, labels = images.to(device), labels.to(device)\n",
    "        outputs = model(images)\n",
    "        _, predicted = torch.max(outputs.data, 1)\n",
    "        total += labels.size(0)\n",
    "        correct += (predicted == labels).sum().item()\n",
    "\n",
    "accuracy = 100 * correct / total\n",
    "print(f\"Test Accuracy: {accuracy:.2f}%\")\n"
   ]
  },
  {
   "cell_type": "code",
   "execution_count": 37,
   "id": "ef1554af-fdbc-4735-82ed-c10d12c3a1fd",
   "metadata": {},
   "outputs": [
    {
     "data": {
      "image/png": "[encoded data removed]",
      "text/plain": [
       "<Figure size 1200x300 with 6 Axes>"
      ]
     },
     "metadata": {},
     "output_type": "display_data"
    }
   ],
   "source": [
    "# Store misclassified images, their predicted and true labels\n",
    "misclassified = []\n",
    "\n",
    "model.eval()\n",
    "with torch.no_grad():\n",
    "    for images, labels in test_loader:\n",
    "        images, labels = images.to(device), labels.to(device)\n",
    "        outputs = model(images)\n",
    "        _, predicted = torch.max(outputs.data, 1)\n",
    "        for img, true, pred in zip(images, labels, predicted):\n",
    "            if true != pred:\n",
    "                misclassified.append((img.cpu(), true.cpu(), pred.cpu()))\n",
    "            if len(misclassified) >= 6:\n",
    "                break\n",
    "        if len(misclassified) >= 6:\n",
    "            break\n",
    "\n",
    "fig, axes = plt.subplots(1, 6, figsize=(12, 3))\n",
    "for i, (img, true, pred) in enumerate(misclassified[:6]):\n",
    "    axes[i].imshow(img.squeeze(), cmap='gray')\n",
    "    axes[i].set_title(f\"T:{true} P:{pred}\")\n",
    "    axes[i].axis('off')\n",
    "plt.show()\n"
   ]
  },
  {
   "cell_type": "markdown",
   "id": "0dba7116-49ad-4c80-b0d7-4f22884048f6",
   "metadata": {},
   "source": [
    "Data augmentation simulates “real-world” scenarios for digit recognition, which encourages the network to learn more generalizable features and reduces overfitting to the training set."
   ]
  },
  {
   "cell_type": "code",
   "execution_count": 38,
   "id": "fe5a5b4c-e6af-43a5-a202-e26774d09eb4",
   "metadata": {},
   "outputs": [],
   "source": [
    "# Save only the model parameters (recommended)\n",
    "torch.save(model.state_dict(), 'mnist_cnn.pth')"
   ]
  },
  {
   "cell_type": "code",
   "execution_count": null,
   "id": "a174fa8a-8367-47e9-8b15-d1534b6c543f",
   "metadata": {},
   "outputs": [],
   "source": []
  }
 ],
 "metadata": {
  "kernelspec": {
   "display_name": "Python (mnist-venv)",
   "language": "python",
   "name": "mnist-venv"
  },
  "language_info": {
   "codemirror_mode": {
    "name": "ipython",
    "version": 3
   },
   "file_extension": ".py",
   "mimetype": "text/x-python",
   "name": "python",
   "nbconvert_exporter": "python",
   "pygments_lexer": "ipython3",
   "version": "3.13.1"
  }
 },
 "nbformat": 4,
 "nbformat_minor": 5
}
